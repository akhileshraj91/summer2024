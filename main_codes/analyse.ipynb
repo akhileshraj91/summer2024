{
 "cells": [
  {
   "cell_type": "code",
   "execution_count": 22,
   "metadata": {},
   "outputs": [],
   "source": [
    "import matplotlib.pyplot as plt\n",
    "import numpy as np\n",
    "import csv\n",
    "import sys\n",
    "import pandas as pd"
   ]
  },
  {
   "cell_type": "code",
   "execution_count": 23,
   "metadata": {},
   "outputs": [],
   "source": [
    "csv_file = 'losses_seed_20240928_210959.csv'\n",
    "data = pd.read_csv(csv_file)"
   ]
  },
  {
   "cell_type": "code",
   "execution_count": 24,
   "metadata": {},
   "outputs": [],
   "source": [
    "data.keys()\n",
    "processed = {}\n",
    "epoch = 0\n",
    "processed[f'epoch_{epoch}'] = {}\n",
    "processed[f'epoch_{epoch}']['actor'] = []\n",
    "processed[f'epoch_{epoch}']['critic'] = []\n",
    "for index in range(len(data) - 1):  # Iterate till the last but one row\n",
    "    row = data.iloc[index]\n",
    "    if data.iloc[index + 1]['iteration'] < row['iteration']:\n",
    "        # average_loss = np.mean(processed[f'epoch_{epoch}'])\n",
    "        epoch += 1\n",
    "        processed[f'epoch_{epoch}'] = {}\n",
    "        processed[f'epoch_{epoch}']['actor'] = []\n",
    "        processed[f'epoch_{epoch}']['critic'] = []\n",
    "    else: \n",
    "        processed[f'epoch_{epoch}']['actor'].append(row['actor_loss'])\n",
    "        processed[f'epoch_{epoch}']['critic'].append(row['critic_loss'])\n",
    "    # print(row)"
   ]
  },
  {
   "cell_type": "code",
   "execution_count": 25,
   "metadata": {},
   "outputs": [
    {
     "data": {
      "text/plain": [
       "np.float64(-0.46999283914046946)"
      ]
     },
     "execution_count": 25,
     "metadata": {},
     "output_type": "execute_result"
    }
   ],
   "source": [
    "processed.keys()\n",
    "np.mean(processed['epoch_0']['actor'])"
   ]
  },
  {
   "cell_type": "code",
   "execution_count": 26,
   "metadata": {},
   "outputs": [
    {
     "data": {
      "image/png": "[encoded data removed]",
      "text/plain": [
       "<Figure size 1000x600 with 2 Axes>"
      ]
     },
     "metadata": {},
     "output_type": "display_data"
    }
   ],
   "source": [
    "fig, axs = plt.subplots(2,1,figsize=(10,6))\n",
    "for epoch in range(len(processed.keys())):\n",
    "    axs[0].scatter(epoch, np.mean(processed[f'epoch_{epoch}']['actor']))\n",
    "    axs[1].scatter(epoch, np.mean(processed[f'epoch_{epoch}']['critic']))\n"
   ]
  }
 ],
 "metadata": {
  "kernelspec": {
   "display_name": "Python 3",
   "language": "python",
   "name": "python3"
  },
  "language_info": {
   "codemirror_mode": {
    "name": "ipython",
    "version": 3
   },
   "file_extension": ".py",
   "mimetype": "text/x-python",
   "name": "python",
   "nbconvert_exporter": "python",
   "pygments_lexer": "ipython3",
   "version": "3.10.12"
  }
 },
 "nbformat": 4,
 "nbformat_minor": 2
}
